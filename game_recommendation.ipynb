{
 "cells": [
  {
   "cell_type": "markdown",
   "metadata": {},
   "source": [
    "# Content-Based Video Game Recommendation \n",
    "Brendan Haniff"
   ]
  },
  {
   "cell_type": "markdown",
   "metadata": {},
   "source": [
    "Have you ever enjoyed playing a video game so much that after completing it you're left looking for more?\n",
    "<br><br>\n",
    "Finding similar games to the one you completed can sometimes be a challenging task, especially with the amount of video games available. This is where a recommendation system comes into play. Similarly to movie streaming services, A recommendation system can be used to determine the best possible video game to play, given a game you already enjoy."
   ]
  },
  {
   "cell_type": "markdown",
   "metadata": {},
   "source": [
    "## Goal\n",
    "The goal of this project is to develop a content based video game recommendation system, using data from the 'Popular Video Games 1980 - 2023' dataset on Kaggle. Content based recommendation systems utilize information about games a user enjoys and aims to find similar games based on select categories of data about the game. This is accomplished in this project with the use of cosine similarity. Each video game in the dataset is assigned a vector based on the data from the chosen categories. Cosine similarity is used to measure the distance between each of the vectors, determining which games are closest to the game suggested by the user."
   ]
  },
  {
   "cell_type": "markdown",
   "metadata": {},
   "source": [
    "<div>\n",
    "    <img src=\"https://cdn.sanity.io/images/oaglaatp/production/a2fc251dcb1ad9ce9b8a82b182c6186d5caba036-1200x800.png?w=1200&h=800&auto=format\" width=\"200\"/>\n",
    "</div>"
   ]
  },
  {
   "cell_type": "markdown",
   "metadata": {},
   "source": [
    "## Dataset\n",
    "\n",
    "In this project I will using the 'Popular Video Games 1980 - 2023' dataset on Kaggle. This dataset includes 1099 unique video games, each with data in the catgories: Title, Release Date, Team, Rating, Times Listed, Number of Reviews, Genre, Summary, Reviews, Plays, Playing, Backlogs, and Wishlist. The data is collected from a website called 'Backloggd', which is a video game collection website that allows users to interact and share experiences and opinions on different games."
   ]
  },
  {
   "cell_type": "markdown",
   "metadata": {},
   "source": [
    "## Data Cleaning"
   ]
  },
  {
   "cell_type": "markdown",
   "metadata": {},
   "source": [
    "import pandas and numpy for data cleaning and import tfidfVectorizer and linear_kernel for building recommendation model"
   ]
  },
  {
   "cell_type": "code",
   "execution_count": 5,
   "metadata": {},
   "outputs": [],
   "source": [
    "#libraries\n",
    "import pandas as pd\n",
    "import numpy as np\n",
    "from sklearn.feature_extraction.text import TfidfVectorizer\n",
    "from sklearn.metrics.pairwise import linear_kernel"
   ]
  },
  {
   "cell_type": "markdown",
   "metadata": {},
   "source": [
    "df.head() shows a summary of the first 5 values in the dataset. We can see all the different categories of data, along with the types for each column with df.info(). We can see that each data type is of the type 'object', aside from the index and \"rating\""
   ]
  },
  {
   "cell_type": "code",
   "execution_count": 6,
   "metadata": {},
   "outputs": [
    {
     "name": "stdout",
     "output_type": "stream",
     "text": [
      "<class 'pandas.core.frame.DataFrame'>\n",
      "RangeIndex: 1512 entries, 0 to 1511\n",
      "Data columns (total 14 columns):\n",
      " #   Column             Non-Null Count  Dtype  \n",
      "---  ------             --------------  -----  \n",
      " 0   index              1512 non-null   int64  \n",
      " 1   Title              1512 non-null   object \n",
      " 2   Release Date       1512 non-null   object \n",
      " 3   Team               1511 non-null   object \n",
      " 4   Rating             1499 non-null   float64\n",
      " 5   Times Listed       1512 non-null   object \n",
      " 6   Number of Reviews  1512 non-null   object \n",
      " 7   Genres             1512 non-null   object \n",
      " 8   Summary            1511 non-null   object \n",
      " 9   Reviews            1512 non-null   object \n",
      " 10  Plays              1512 non-null   object \n",
      " 11  Playing            1512 non-null   object \n",
      " 12  Backlogs           1512 non-null   object \n",
      " 13  Wishlist           1512 non-null   object \n",
      "dtypes: float64(1), int64(1), object(12)\n",
      "memory usage: 165.5+ KB\n",
      "None\n"
     ]
    },
    {
     "data": {
      "text/html": [
       "<div>\n",
       "<style scoped>\n",
       "    .dataframe tbody tr th:only-of-type {\n",
       "        vertical-align: middle;\n",
       "    }\n",
       "\n",
       "    .dataframe tbody tr th {\n",
       "        vertical-align: top;\n",
       "    }\n",
       "\n",
       "    .dataframe thead th {\n",
       "        text-align: right;\n",
       "    }\n",
       "</style>\n",
       "<table border=\"1\" class=\"dataframe\">\n",
       "  <thead>\n",
       "    <tr style=\"text-align: right;\">\n",
       "      <th></th>\n",
       "      <th>index</th>\n",
       "      <th>Title</th>\n",
       "      <th>Release Date</th>\n",
       "      <th>Team</th>\n",
       "      <th>Rating</th>\n",
       "      <th>Times Listed</th>\n",
       "      <th>Number of Reviews</th>\n",
       "      <th>Genres</th>\n",
       "      <th>Summary</th>\n",
       "      <th>Reviews</th>\n",
       "      <th>Plays</th>\n",
       "      <th>Playing</th>\n",
       "      <th>Backlogs</th>\n",
       "      <th>Wishlist</th>\n",
       "    </tr>\n",
       "  </thead>\n",
       "  <tbody>\n",
       "    <tr>\n",
       "      <th>0</th>\n",
       "      <td>0</td>\n",
       "      <td>Elden Ring</td>\n",
       "      <td>Feb 25, 2022</td>\n",
       "      <td>['Bandai Namco Entertainment', 'FromSoftware']</td>\n",
       "      <td>4.5</td>\n",
       "      <td>3.9K</td>\n",
       "      <td>3.9K</td>\n",
       "      <td>['Adventure', 'RPG']</td>\n",
       "      <td>Elden Ring is a fantasy, action and open world...</td>\n",
       "      <td>[\"The first playthrough of elden ring is one o...</td>\n",
       "      <td>17K</td>\n",
       "      <td>3.8K</td>\n",
       "      <td>4.6K</td>\n",
       "      <td>4.8K</td>\n",
       "    </tr>\n",
       "    <tr>\n",
       "      <th>1</th>\n",
       "      <td>1</td>\n",
       "      <td>Hades</td>\n",
       "      <td>Dec 10, 2019</td>\n",
       "      <td>['Supergiant Games']</td>\n",
       "      <td>4.3</td>\n",
       "      <td>2.9K</td>\n",
       "      <td>2.9K</td>\n",
       "      <td>['Adventure', 'Brawler', 'Indie', 'RPG']</td>\n",
       "      <td>A rogue-lite hack and slash dungeon crawler in...</td>\n",
       "      <td>['convinced this is a roguelike for people who...</td>\n",
       "      <td>21K</td>\n",
       "      <td>3.2K</td>\n",
       "      <td>6.3K</td>\n",
       "      <td>3.6K</td>\n",
       "    </tr>\n",
       "    <tr>\n",
       "      <th>2</th>\n",
       "      <td>2</td>\n",
       "      <td>The Legend of Zelda: Breath of the Wild</td>\n",
       "      <td>Mar 03, 2017</td>\n",
       "      <td>['Nintendo', 'Nintendo EPD Production Group No...</td>\n",
       "      <td>4.4</td>\n",
       "      <td>4.3K</td>\n",
       "      <td>4.3K</td>\n",
       "      <td>['Adventure', 'RPG']</td>\n",
       "      <td>The Legend of Zelda: Breath of the Wild is the...</td>\n",
       "      <td>['This game is the game (that is not CS:GO) th...</td>\n",
       "      <td>30K</td>\n",
       "      <td>2.5K</td>\n",
       "      <td>5K</td>\n",
       "      <td>2.6K</td>\n",
       "    </tr>\n",
       "    <tr>\n",
       "      <th>3</th>\n",
       "      <td>3</td>\n",
       "      <td>Undertale</td>\n",
       "      <td>Sep 15, 2015</td>\n",
       "      <td>['tobyfox', '8-4']</td>\n",
       "      <td>4.2</td>\n",
       "      <td>3.5K</td>\n",
       "      <td>3.5K</td>\n",
       "      <td>['Adventure', 'Indie', 'RPG', 'Turn Based Stra...</td>\n",
       "      <td>A small child falls into the Underground, wher...</td>\n",
       "      <td>['soundtrack is tied for #1 with nier automata...</td>\n",
       "      <td>28K</td>\n",
       "      <td>679</td>\n",
       "      <td>4.9K</td>\n",
       "      <td>1.8K</td>\n",
       "    </tr>\n",
       "    <tr>\n",
       "      <th>4</th>\n",
       "      <td>4</td>\n",
       "      <td>Hollow Knight</td>\n",
       "      <td>Feb 24, 2017</td>\n",
       "      <td>['Team Cherry']</td>\n",
       "      <td>4.4</td>\n",
       "      <td>3K</td>\n",
       "      <td>3K</td>\n",
       "      <td>['Adventure', 'Indie', 'Platform']</td>\n",
       "      <td>A 2D metroidvania with an emphasis on close co...</td>\n",
       "      <td>[\"this games worldbuilding is incredible, with...</td>\n",
       "      <td>21K</td>\n",
       "      <td>2.4K</td>\n",
       "      <td>8.3K</td>\n",
       "      <td>2.3K</td>\n",
       "    </tr>\n",
       "  </tbody>\n",
       "</table>\n",
       "</div>"
      ],
      "text/plain": [
       "   index                                    Title  Release Date  \\\n",
       "0      0                               Elden Ring  Feb 25, 2022   \n",
       "1      1                                    Hades  Dec 10, 2019   \n",
       "2      2  The Legend of Zelda: Breath of the Wild  Mar 03, 2017   \n",
       "3      3                                Undertale  Sep 15, 2015   \n",
       "4      4                            Hollow Knight  Feb 24, 2017   \n",
       "\n",
       "                                                Team  Rating Times Listed  \\\n",
       "0     ['Bandai Namco Entertainment', 'FromSoftware']     4.5         3.9K   \n",
       "1                               ['Supergiant Games']     4.3         2.9K   \n",
       "2  ['Nintendo', 'Nintendo EPD Production Group No...     4.4         4.3K   \n",
       "3                                 ['tobyfox', '8-4']     4.2         3.5K   \n",
       "4                                    ['Team Cherry']     4.4           3K   \n",
       "\n",
       "  Number of Reviews                                             Genres  \\\n",
       "0              3.9K                               ['Adventure', 'RPG']   \n",
       "1              2.9K           ['Adventure', 'Brawler', 'Indie', 'RPG']   \n",
       "2              4.3K                               ['Adventure', 'RPG']   \n",
       "3              3.5K  ['Adventure', 'Indie', 'RPG', 'Turn Based Stra...   \n",
       "4                3K                 ['Adventure', 'Indie', 'Platform']   \n",
       "\n",
       "                                             Summary  \\\n",
       "0  Elden Ring is a fantasy, action and open world...   \n",
       "1  A rogue-lite hack and slash dungeon crawler in...   \n",
       "2  The Legend of Zelda: Breath of the Wild is the...   \n",
       "3  A small child falls into the Underground, wher...   \n",
       "4  A 2D metroidvania with an emphasis on close co...   \n",
       "\n",
       "                                             Reviews Plays Playing Backlogs  \\\n",
       "0  [\"The first playthrough of elden ring is one o...   17K    3.8K     4.6K   \n",
       "1  ['convinced this is a roguelike for people who...   21K    3.2K     6.3K   \n",
       "2  ['This game is the game (that is not CS:GO) th...   30K    2.5K       5K   \n",
       "3  ['soundtrack is tied for #1 with nier automata...   28K     679     4.9K   \n",
       "4  [\"this games worldbuilding is incredible, with...   21K    2.4K     8.3K   \n",
       "\n",
       "  Wishlist  \n",
       "0     4.8K  \n",
       "1     3.6K  \n",
       "2     2.6K  \n",
       "3     1.8K  \n",
       "4     2.3K  "
      ]
     },
     "execution_count": 6,
     "metadata": {},
     "output_type": "execute_result"
    }
   ],
   "source": [
    "#read csv\n",
    "df = pd.read_csv(\"games.csv\")\n",
    "df = df.rename(columns={df.columns[0]: 'index'})\n",
    "print(df.info())\n",
    "df.head()"
   ]
  },
  {
   "cell_type": "markdown",
   "metadata": {},
   "source": [
    "Drop duplicate video games from the dataset while keeping rows in proper index range by using df.drop_duplicates, with these parameters: subset='Title', keep='first', ignore_index=True <br>\n",
    "<br> I chose to isolate the Title, Genres, Team, Summary, and Reviews columns because these seemed most relevant to determining similarity between video games"
   ]
  },
  {
   "cell_type": "code",
   "execution_count": 7,
   "metadata": {},
   "outputs": [
    {
     "data": {
      "text/html": [
       "<div>\n",
       "<style scoped>\n",
       "    .dataframe tbody tr th:only-of-type {\n",
       "        vertical-align: middle;\n",
       "    }\n",
       "\n",
       "    .dataframe tbody tr th {\n",
       "        vertical-align: top;\n",
       "    }\n",
       "\n",
       "    .dataframe thead th {\n",
       "        text-align: right;\n",
       "    }\n",
       "</style>\n",
       "<table border=\"1\" class=\"dataframe\">\n",
       "  <thead>\n",
       "    <tr style=\"text-align: right;\">\n",
       "      <th></th>\n",
       "      <th>Title</th>\n",
       "      <th>Team</th>\n",
       "      <th>Genres</th>\n",
       "      <th>Summary</th>\n",
       "      <th>Reviews</th>\n",
       "    </tr>\n",
       "  </thead>\n",
       "  <tbody>\n",
       "    <tr>\n",
       "      <th>0</th>\n",
       "      <td>Elden Ring</td>\n",
       "      <td>['Bandai Namco Entertainment', 'FromSoftware']</td>\n",
       "      <td>['Adventure', 'RPG']</td>\n",
       "      <td>Elden Ring is a fantasy, action and open world...</td>\n",
       "      <td>[\"The first playthrough of elden ring is one o...</td>\n",
       "    </tr>\n",
       "    <tr>\n",
       "      <th>1</th>\n",
       "      <td>Hades</td>\n",
       "      <td>['Supergiant Games']</td>\n",
       "      <td>['Adventure', 'Brawler', 'Indie', 'RPG']</td>\n",
       "      <td>A rogue-lite hack and slash dungeon crawler in...</td>\n",
       "      <td>['convinced this is a roguelike for people who...</td>\n",
       "    </tr>\n",
       "    <tr>\n",
       "      <th>2</th>\n",
       "      <td>The Legend of Zelda: Breath of the Wild</td>\n",
       "      <td>['Nintendo', 'Nintendo EPD Production Group No...</td>\n",
       "      <td>['Adventure', 'RPG']</td>\n",
       "      <td>The Legend of Zelda: Breath of the Wild is the...</td>\n",
       "      <td>['This game is the game (that is not CS:GO) th...</td>\n",
       "    </tr>\n",
       "    <tr>\n",
       "      <th>3</th>\n",
       "      <td>Undertale</td>\n",
       "      <td>['tobyfox', '8-4']</td>\n",
       "      <td>['Adventure', 'Indie', 'RPG', 'Turn Based Stra...</td>\n",
       "      <td>A small child falls into the Underground, wher...</td>\n",
       "      <td>['soundtrack is tied for #1 with nier automata...</td>\n",
       "    </tr>\n",
       "    <tr>\n",
       "      <th>4</th>\n",
       "      <td>Hollow Knight</td>\n",
       "      <td>['Team Cherry']</td>\n",
       "      <td>['Adventure', 'Indie', 'Platform']</td>\n",
       "      <td>A 2D metroidvania with an emphasis on close co...</td>\n",
       "      <td>[\"this games worldbuilding is incredible, with...</td>\n",
       "    </tr>\n",
       "  </tbody>\n",
       "</table>\n",
       "</div>"
      ],
      "text/plain": [
       "                                     Title  \\\n",
       "0                               Elden Ring   \n",
       "1                                    Hades   \n",
       "2  The Legend of Zelda: Breath of the Wild   \n",
       "3                                Undertale   \n",
       "4                            Hollow Knight   \n",
       "\n",
       "                                                Team  \\\n",
       "0     ['Bandai Namco Entertainment', 'FromSoftware']   \n",
       "1                               ['Supergiant Games']   \n",
       "2  ['Nintendo', 'Nintendo EPD Production Group No...   \n",
       "3                                 ['tobyfox', '8-4']   \n",
       "4                                    ['Team Cherry']   \n",
       "\n",
       "                                              Genres  \\\n",
       "0                               ['Adventure', 'RPG']   \n",
       "1           ['Adventure', 'Brawler', 'Indie', 'RPG']   \n",
       "2                               ['Adventure', 'RPG']   \n",
       "3  ['Adventure', 'Indie', 'RPG', 'Turn Based Stra...   \n",
       "4                 ['Adventure', 'Indie', 'Platform']   \n",
       "\n",
       "                                             Summary  \\\n",
       "0  Elden Ring is a fantasy, action and open world...   \n",
       "1  A rogue-lite hack and slash dungeon crawler in...   \n",
       "2  The Legend of Zelda: Breath of the Wild is the...   \n",
       "3  A small child falls into the Underground, wher...   \n",
       "4  A 2D metroidvania with an emphasis on close co...   \n",
       "\n",
       "                                             Reviews  \n",
       "0  [\"The first playthrough of elden ring is one o...  \n",
       "1  ['convinced this is a roguelike for people who...  \n",
       "2  ['This game is the game (that is not CS:GO) th...  \n",
       "3  ['soundtrack is tied for #1 with nier automata...  \n",
       "4  [\"this games worldbuilding is incredible, with...  "
      ]
     },
     "execution_count": 7,
     "metadata": {},
     "output_type": "execute_result"
    }
   ],
   "source": [
    "#isolate columns needed\n",
    "df = df.drop_duplicates(subset='Title', keep='first', ignore_index=True)\n",
    "\n",
    "df = df[['Title', 'Team', 'Genres', 'Summary', 'Reviews']]\n",
    "df.head()"
   ]
  },
  {
   "cell_type": "markdown",
   "metadata": {},
   "source": [
    "Here we can see the shape of the filtered data. There are 1097 rows, and the 5 columns we isolated"
   ]
  },
  {
   "cell_type": "code",
   "execution_count": 8,
   "metadata": {},
   "outputs": [
    {
     "name": "stdout",
     "output_type": "stream",
     "text": [
      "shape of df: (1097, 5)\n"
     ]
    },
    {
     "data": {
      "text/html": [
       "<div>\n",
       "<style scoped>\n",
       "    .dataframe tbody tr th:only-of-type {\n",
       "        vertical-align: middle;\n",
       "    }\n",
       "\n",
       "    .dataframe tbody tr th {\n",
       "        vertical-align: top;\n",
       "    }\n",
       "\n",
       "    .dataframe thead th {\n",
       "        text-align: right;\n",
       "    }\n",
       "</style>\n",
       "<table border=\"1\" class=\"dataframe\">\n",
       "  <thead>\n",
       "    <tr style=\"text-align: right;\">\n",
       "      <th></th>\n",
       "      <th>Title</th>\n",
       "      <th>Team</th>\n",
       "      <th>Genres</th>\n",
       "      <th>Summary</th>\n",
       "      <th>Reviews</th>\n",
       "    </tr>\n",
       "  </thead>\n",
       "  <tbody>\n",
       "    <tr>\n",
       "      <th>0</th>\n",
       "      <td>Elden Ring</td>\n",
       "      <td>['Bandai Namco Entertainment', 'FromSoftware']</td>\n",
       "      <td>['Adventure', 'RPG']</td>\n",
       "      <td>Elden Ring is a fantasy, action and open world...</td>\n",
       "      <td>[\"The first playthrough of elden ring is one o...</td>\n",
       "    </tr>\n",
       "    <tr>\n",
       "      <th>1</th>\n",
       "      <td>Hades</td>\n",
       "      <td>['Supergiant Games']</td>\n",
       "      <td>['Adventure', 'Brawler', 'Indie', 'RPG']</td>\n",
       "      <td>A rogue-lite hack and slash dungeon crawler in...</td>\n",
       "      <td>['convinced this is a roguelike for people who...</td>\n",
       "    </tr>\n",
       "    <tr>\n",
       "      <th>2</th>\n",
       "      <td>The Legend of Zelda: Breath of the Wild</td>\n",
       "      <td>['Nintendo', 'Nintendo EPD Production Group No...</td>\n",
       "      <td>['Adventure', 'RPG']</td>\n",
       "      <td>The Legend of Zelda: Breath of the Wild is the...</td>\n",
       "      <td>['This game is the game (that is not CS:GO) th...</td>\n",
       "    </tr>\n",
       "    <tr>\n",
       "      <th>3</th>\n",
       "      <td>Undertale</td>\n",
       "      <td>['tobyfox', '8-4']</td>\n",
       "      <td>['Adventure', 'Indie', 'RPG', 'Turn Based Stra...</td>\n",
       "      <td>A small child falls into the Underground, wher...</td>\n",
       "      <td>['soundtrack is tied for #1 with nier automata...</td>\n",
       "    </tr>\n",
       "    <tr>\n",
       "      <th>4</th>\n",
       "      <td>Hollow Knight</td>\n",
       "      <td>['Team Cherry']</td>\n",
       "      <td>['Adventure', 'Indie', 'Platform']</td>\n",
       "      <td>A 2D metroidvania with an emphasis on close co...</td>\n",
       "      <td>[\"this games worldbuilding is incredible, with...</td>\n",
       "    </tr>\n",
       "  </tbody>\n",
       "</table>\n",
       "</div>"
      ],
      "text/plain": [
       "                                     Title  \\\n",
       "0                               Elden Ring   \n",
       "1                                    Hades   \n",
       "2  The Legend of Zelda: Breath of the Wild   \n",
       "3                                Undertale   \n",
       "4                            Hollow Knight   \n",
       "\n",
       "                                                Team  \\\n",
       "0     ['Bandai Namco Entertainment', 'FromSoftware']   \n",
       "1                               ['Supergiant Games']   \n",
       "2  ['Nintendo', 'Nintendo EPD Production Group No...   \n",
       "3                                 ['tobyfox', '8-4']   \n",
       "4                                    ['Team Cherry']   \n",
       "\n",
       "                                              Genres  \\\n",
       "0                               ['Adventure', 'RPG']   \n",
       "1           ['Adventure', 'Brawler', 'Indie', 'RPG']   \n",
       "2                               ['Adventure', 'RPG']   \n",
       "3  ['Adventure', 'Indie', 'RPG', 'Turn Based Stra...   \n",
       "4                 ['Adventure', 'Indie', 'Platform']   \n",
       "\n",
       "                                             Summary  \\\n",
       "0  Elden Ring is a fantasy, action and open world...   \n",
       "1  A rogue-lite hack and slash dungeon crawler in...   \n",
       "2  The Legend of Zelda: Breath of the Wild is the...   \n",
       "3  A small child falls into the Underground, wher...   \n",
       "4  A 2D metroidvania with an emphasis on close co...   \n",
       "\n",
       "                                             Reviews  \n",
       "0  [\"The first playthrough of elden ring is one o...  \n",
       "1  ['convinced this is a roguelike for people who...  \n",
       "2  ['This game is the game (that is not CS:GO) th...  \n",
       "3  ['soundtrack is tied for #1 with nier automata...  \n",
       "4  [\"this games worldbuilding is incredible, with...  "
      ]
     },
     "execution_count": 8,
     "metadata": {},
     "output_type": "execute_result"
    }
   ],
   "source": [
    "df = df.dropna()\n",
    "print(f\"shape of df: {df.shape}\")\n",
    "df.head()\n"
   ]
  },
  {
   "cell_type": "markdown",
   "metadata": {},
   "source": [
    "## Build Model"
   ]
  },
  {
   "cell_type": "markdown",
   "metadata": {},
   "source": [
    "Next, combine data from rows with useful data\n",
    "<br>In this project I chose to test 2 different combinations of data, one including the \"Reviews\" data and one without it"
   ]
  },
  {
   "cell_type": "code",
   "execution_count": 9,
   "metadata": {},
   "outputs": [
    {
     "name": "stdout",
     "output_type": "stream",
     "text": [
      "0    ['Bandai Namco Entertainment', 'FromSoftware']...\n",
      "1    ['Supergiant Games'] ['Adventure', 'Brawler', ...\n",
      "2    ['Nintendo', 'Nintendo EPD Production Group No...\n",
      "3    ['tobyfox', '8-4'] ['Adventure', 'Indie', 'RPG...\n",
      "4    ['Team Cherry'] ['Adventure', 'Indie', 'Platfo...\n",
      "Name: all_feats, dtype: object\n",
      "0    ['Bandai Namco Entertainment', 'FromSoftware']...\n",
      "1    ['Supergiant Games'] ['Adventure', 'Brawler', ...\n",
      "2    ['Nintendo', 'Nintendo EPD Production Group No...\n",
      "3    ['tobyfox', '8-4'] ['Adventure', 'Indie', 'RPG...\n",
      "4    ['Team Cherry'] ['Adventure', 'Indie', 'Platfo...\n",
      "Name: no_reviews, dtype: object\n"
     ]
    }
   ],
   "source": [
    "def combine_feats(row):\n",
    "    return row['Team'] + \" \" + row['Genres'] + \" \" + row[\"Summary\"] + \" \" + row[\"Reviews\"]\n",
    "\n",
    "def no_reviews(row):\n",
    "    return row['Team'] + \" \" + row['Genres'] + \" \" + row[\"Summary\"]\n",
    "\n",
    "df['all_feats'] = df.apply(combine_feats, axis=1)\n",
    "df['no_reviews'] = df.apply(no_reviews, axis=1)\n",
    "print(df['all_feats'].head())\n",
    "print(df['no_reviews'].head())"
   ]
  },
  {
   "cell_type": "markdown",
   "metadata": {},
   "source": [
    "I used the TfidVectorizer to find the frequency/importance of terms in each of the combined strings"
   ]
  },
  {
   "cell_type": "code",
   "execution_count": 10,
   "metadata": {},
   "outputs": [
    {
     "name": "stdout",
     "output_type": "stream",
     "text": [
      "(1097, 160627)\n",
      "\n",
      "\n",
      "(1097, 53947)\n"
     ]
    }
   ],
   "source": [
    "tf = TfidfVectorizer(analyzer='word', ngram_range=(1,2), min_df=0.0, stop_words='english')\n",
    "tfMatrix = tf.fit_transform(df['all_feats'])\n",
    "tfMatrix2 = tf.fit_transform(df['no_reviews'])\n",
    "print(tfMatrix.shape)\n",
    "print(\"\\n\")\n",
    "print(tfMatrix2.shape)"
   ]
  },
  {
   "cell_type": "markdown",
   "metadata": {},
   "source": [
    "I find cosine similarity for the data with and without reviews. This tells us how related certain games are to others based on the numberical values generated by TfidfVectorizer, which is used to find game recommendations. I used linear_kernel for this project because it is faster when using TfidfVectorizer."
   ]
  },
  {
   "cell_type": "code",
   "execution_count": 11,
   "metadata": {},
   "outputs": [
    {
     "name": "stdout",
     "output_type": "stream",
     "text": [
      "[[1.         0.01584567 0.02306498 0.01541052]\n",
      " [0.01584567 1.         0.03037132 0.03394257]\n",
      " [0.02306498 0.03037132 1.         0.02749863]\n",
      " [0.01541052 0.03394257 0.02749863 1.        ]]\n",
      "\n",
      "\n",
      "[[1.         0.00422194 0.0408111  0.01103808]\n",
      " [0.00422194 1.         0.00870011 0.01223707]\n",
      " [0.0408111  0.00870011 1.         0.00334356]\n",
      " [0.01103808 0.01223707 0.00334356 1.        ]]\n"
     ]
    }
   ],
   "source": [
    "cosine_similarity = linear_kernel(tfMatrix, tfMatrix)\n",
    "no_review_CS = linear_kernel(tfMatrix2, tfMatrix2)\n",
    "print(cosine_similarity[:4, :4])\n",
    "print(\"\\n\")\n",
    "print(no_review_CS[:4, :4])"
   ]
  },
  {
   "cell_type": "markdown",
   "metadata": {},
   "source": [
    "## Results"
   ]
  },
  {
   "cell_type": "markdown",
   "metadata": {},
   "source": [
    "Next, I run both models and print the top 10 recommended games both with and without reviews"
   ]
  },
  {
   "cell_type": "code",
   "execution_count": 12,
   "metadata": {},
   "outputs": [
    {
     "name": "stdout",
     "output_type": "stream",
     "text": [
      "Result with reviews\n",
      "1. Elden Ring: Shadow of the Erdtree\n",
      "2. Sekiro: Shadows Die Twice\n",
      "3. Bayonetta 3\n",
      "4. Dark Souls\n",
      "5. Dark Souls III\n",
      "6. Bloodborne: The Old Hunters\n",
      "7. Kingdoms of Amalur: Reckoning\n",
      "8. Dark Souls II: Scholar of the First Sin\n",
      "9. Outer Wilds\n",
      "10. Metal Gear Solid V: The Phantom Pain\n",
      "\n",
      "\n",
      "Results without reviews\n",
      "1. Elden Ring: Shadow of the Erdtree\n",
      "2. Dark Souls III\n",
      "3. Dark Souls II: Scholar of the First Sin\n",
      "4. Dark Souls\n",
      "5. The Lord of the Rings: The Two Towers\n",
      "6. Code Vein\n",
      "7. Ni no Kuni II: Revenant Kingdom\n",
      "8. JoJo’s Bizarre Adventure: All-Star Battle R\n",
      "9. Tekken 6\n",
      "10. Dark Souls: Remastered\n"
     ]
    }
   ],
   "source": [
    "titles = df['Title']\n",
    "\n",
    "#get the index of the inoutted video game\n",
    "def get_idx(value):\n",
    "    index = df.index[df['Title']==value].tolist()\n",
    "    return index\n",
    "\n",
    "idx = get_idx('Elden Ring')[0]\n",
    "\n",
    "#run model with reviews\n",
    "similar_games = list(enumerate(cosine_similarity[idx]))\n",
    "sim_games_sorted = sorted(similar_games, key=lambda x:x[1], reverse=True)\n",
    "\n",
    "print(\"Result with reviews\")\n",
    "for i in range(1, 11):\n",
    "    print(f\"{i}. {titles.iloc[sim_games_sorted[i][0]]}\")\n",
    "\n",
    "print(\"\\n\")\n",
    "print(\"Results without reviews\")\n",
    "\n",
    "#run model without reviews\n",
    "no_review_similar = list(enumerate(no_review_CS[idx]))\n",
    "no_rev_sorted = sorted(no_review_similar, key=lambda x:x[1], reverse=True)\n",
    "\n",
    "for i in range(1, 11):\n",
    "    print(f\"{i}. {titles.iloc[no_rev_sorted[i][0]]}\")\n"
   ]
  },
  {
   "cell_type": "markdown",
   "metadata": {},
   "source": [
    "Based on the input game 'Elden Ring', the model returns the same #1 recommendation: 'Elden Ring: Shadow of the Erdtree', which is an expansion of the original game. #2 - #10 of the recommended games have a few similarities, such as 'Dark Souls' at #4, and vaious other 'Dark Souls' games at other spots. One of the main differences between the model that incorporated reviews and the model that doesn't is the game 'Sekiro: Shadows Die Twice' at spot #2 in the model with reviews included. This is due to the direct mention of 'sekiro' as a related game to 'Elden Ring', by the reviews in this dataset. The inclusion of reviews in this model seems to find additional games with similarities to the input game, that are otherwise not found without the reviews.\n",
    "\n"
   ]
  },
  {
   "cell_type": "markdown",
   "metadata": {},
   "source": [
    "<div>\n",
    "    <img src=\"/Users/brendanhaniff/Desktop/pyProj/Video_Game_Rec/Google Recs.png\" width=\"700\"/>\n",
    "</div>"
   ]
  }
 ],
 "metadata": {
  "kernelspec": {
   "display_name": "base",
   "language": "python",
   "name": "python3"
  },
  "language_info": {
   "codemirror_mode": {
    "name": "ipython",
    "version": 3
   },
   "file_extension": ".py",
   "mimetype": "text/x-python",
   "name": "python",
   "nbconvert_exporter": "python",
   "pygments_lexer": "ipython3",
   "version": "3.11.5"
  }
 },
 "nbformat": 4,
 "nbformat_minor": 2
}
